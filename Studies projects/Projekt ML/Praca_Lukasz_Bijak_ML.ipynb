{
 "cells": [
  {
   "cell_type": "markdown",
   "metadata": {
    "id": "uOFqfc0fmcug"
   },
   "source": [
    "## Praca zaliczeniowa - Łukasz Bijak"
   ]
  },
  {
   "cell_type": "markdown",
   "metadata": {},
   "source": [
    "#### Analiza wpływu mocy oraz wielkości silnika na cenę samochodu za pomocą regresji liniowej:"
   ]
  },
  {
   "cell_type": "code",
   "execution_count": 1,
   "metadata": {
    "id": "LtiNdCeh6oyu"
   },
   "outputs": [],
   "source": [
    "import matplotlib.pyplot as plt\n",
    "import numpy as np\n",
    "import pandas as pd\n",
    "import seaborn as sns\n",
    "from sklearn.linear_model import LinearRegression\n",
    "from sklearn.preprocessing import PolynomialFeatures"
   ]
  },
  {
   "cell_type": "code",
   "execution_count": 2,
   "metadata": {
    "colab": {
     "base_uri": "https://localhost:8080/"
    },
    "id": "oUIGss_Xxuro",
    "outputId": "33fb25f3-e667-44dd-9ff2-9f67643fcbfb"
   },
   "outputs": [],
   "source": [
    "data=pd.read_csv('cars.csv')"
   ]
  },
  {
   "cell_type": "code",
   "execution_count": 3,
   "metadata": {
    "colab": {
     "base_uri": "https://localhost:8080/",
     "height": 206
    },
    "id": "1JlF-G8xPLBm",
    "outputId": "f571d3c2-cc95-4096-b5b5-5b1899274d70"
   },
   "outputs": [
    {
     "data": {
      "text/html": [
       "<div>\n",
       "<style scoped>\n",
       "    .dataframe tbody tr th:only-of-type {\n",
       "        vertical-align: middle;\n",
       "    }\n",
       "\n",
       "    .dataframe tbody tr th {\n",
       "        vertical-align: top;\n",
       "    }\n",
       "\n",
       "    .dataframe thead th {\n",
       "        text-align: right;\n",
       "    }\n",
       "</style>\n",
       "<table border=\"1\" class=\"dataframe\">\n",
       "  <thead>\n",
       "    <tr style=\"text-align: right;\">\n",
       "      <th></th>\n",
       "      <th>Make</th>\n",
       "      <th>Model</th>\n",
       "      <th>Type</th>\n",
       "      <th>Origin</th>\n",
       "      <th>DriveTrain</th>\n",
       "      <th>MSRP</th>\n",
       "      <th>Invoice</th>\n",
       "      <th>EngineSize</th>\n",
       "      <th>Cylinders</th>\n",
       "      <th>Horsepower</th>\n",
       "      <th>MPG_City</th>\n",
       "      <th>MPG_Highway</th>\n",
       "      <th>Weight</th>\n",
       "      <th>Wheelbase</th>\n",
       "      <th>Length</th>\n",
       "    </tr>\n",
       "  </thead>\n",
       "  <tbody>\n",
       "    <tr>\n",
       "      <th>0</th>\n",
       "      <td>Acura</td>\n",
       "      <td>MDX</td>\n",
       "      <td>SUV</td>\n",
       "      <td>Asia</td>\n",
       "      <td>All</td>\n",
       "      <td>$36,945</td>\n",
       "      <td>$33,337</td>\n",
       "      <td>3.5</td>\n",
       "      <td>6.0</td>\n",
       "      <td>265</td>\n",
       "      <td>17</td>\n",
       "      <td>23</td>\n",
       "      <td>4451</td>\n",
       "      <td>106</td>\n",
       "      <td>189</td>\n",
       "    </tr>\n",
       "    <tr>\n",
       "      <th>1</th>\n",
       "      <td>Acura</td>\n",
       "      <td>RSX Type S 2dr</td>\n",
       "      <td>Sedan</td>\n",
       "      <td>Asia</td>\n",
       "      <td>Front</td>\n",
       "      <td>$23,820</td>\n",
       "      <td>$21,761</td>\n",
       "      <td>2.0</td>\n",
       "      <td>4.0</td>\n",
       "      <td>200</td>\n",
       "      <td>24</td>\n",
       "      <td>31</td>\n",
       "      <td>2778</td>\n",
       "      <td>101</td>\n",
       "      <td>172</td>\n",
       "    </tr>\n",
       "    <tr>\n",
       "      <th>2</th>\n",
       "      <td>Acura</td>\n",
       "      <td>TSX 4dr</td>\n",
       "      <td>Sedan</td>\n",
       "      <td>Asia</td>\n",
       "      <td>Front</td>\n",
       "      <td>$26,990</td>\n",
       "      <td>$24,647</td>\n",
       "      <td>2.4</td>\n",
       "      <td>4.0</td>\n",
       "      <td>200</td>\n",
       "      <td>22</td>\n",
       "      <td>29</td>\n",
       "      <td>3230</td>\n",
       "      <td>105</td>\n",
       "      <td>183</td>\n",
       "    </tr>\n",
       "    <tr>\n",
       "      <th>3</th>\n",
       "      <td>Acura</td>\n",
       "      <td>TL 4dr</td>\n",
       "      <td>Sedan</td>\n",
       "      <td>Asia</td>\n",
       "      <td>Front</td>\n",
       "      <td>$33,195</td>\n",
       "      <td>$30,299</td>\n",
       "      <td>3.2</td>\n",
       "      <td>6.0</td>\n",
       "      <td>270</td>\n",
       "      <td>20</td>\n",
       "      <td>28</td>\n",
       "      <td>3575</td>\n",
       "      <td>108</td>\n",
       "      <td>186</td>\n",
       "    </tr>\n",
       "    <tr>\n",
       "      <th>4</th>\n",
       "      <td>Acura</td>\n",
       "      <td>3.5 RL 4dr</td>\n",
       "      <td>Sedan</td>\n",
       "      <td>Asia</td>\n",
       "      <td>Front</td>\n",
       "      <td>$43,755</td>\n",
       "      <td>$39,014</td>\n",
       "      <td>3.5</td>\n",
       "      <td>6.0</td>\n",
       "      <td>225</td>\n",
       "      <td>18</td>\n",
       "      <td>24</td>\n",
       "      <td>3880</td>\n",
       "      <td>115</td>\n",
       "      <td>197</td>\n",
       "    </tr>\n",
       "  </tbody>\n",
       "</table>\n",
       "</div>"
      ],
      "text/plain": [
       "    Make           Model   Type Origin DriveTrain     MSRP  Invoice  \\\n",
       "0  Acura             MDX    SUV   Asia        All  $36,945  $33,337   \n",
       "1  Acura  RSX Type S 2dr  Sedan   Asia      Front  $23,820  $21,761   \n",
       "2  Acura         TSX 4dr  Sedan   Asia      Front  $26,990  $24,647   \n",
       "3  Acura          TL 4dr  Sedan   Asia      Front  $33,195  $30,299   \n",
       "4  Acura      3.5 RL 4dr  Sedan   Asia      Front  $43,755  $39,014   \n",
       "\n",
       "   EngineSize  Cylinders  Horsepower  MPG_City  MPG_Highway  Weight  \\\n",
       "0         3.5        6.0         265        17           23    4451   \n",
       "1         2.0        4.0         200        24           31    2778   \n",
       "2         2.4        4.0         200        22           29    3230   \n",
       "3         3.2        6.0         270        20           28    3575   \n",
       "4         3.5        6.0         225        18           24    3880   \n",
       "\n",
       "   Wheelbase  Length  \n",
       "0        106     189  \n",
       "1        101     172  \n",
       "2        105     183  \n",
       "3        108     186  \n",
       "4        115     197  "
      ]
     },
     "execution_count": 3,
     "metadata": {},
     "output_type": "execute_result"
    }
   ],
   "source": [
    "# Sprawdzam nagłówki danych:\n",
    "data.head()"
   ]
  },
  {
   "cell_type": "code",
   "execution_count": 4,
   "metadata": {
    "id": "S2BYd-KHfqzW"
   },
   "outputs": [],
   "source": [
    "# Do naszego modelu użyję kolumn: Horsepower,EngineSize, MSRP\n",
    "# w tym celu przekształcam dane w kolumnie MSRP na zmiennoprzecinkowe:\n",
    "data['MSRP'] = data['MSRP'].str[1:].str.replace(',','.')\n",
    "data['MSRP'] = data['MSRP'].astype(float)"
   ]
  },
  {
   "cell_type": "code",
   "execution_count": 5,
   "metadata": {
    "colab": {
     "base_uri": "https://localhost:8080/",
     "height": 206
    },
    "id": "fWZ2YA2WvTow",
    "outputId": "33b52c4f-ab1a-4753-a3de-5f332c1572f4"
   },
   "outputs": [
    {
     "data": {
      "text/html": [
       "<div>\n",
       "<style scoped>\n",
       "    .dataframe tbody tr th:only-of-type {\n",
       "        vertical-align: middle;\n",
       "    }\n",
       "\n",
       "    .dataframe tbody tr th {\n",
       "        vertical-align: top;\n",
       "    }\n",
       "\n",
       "    .dataframe thead th {\n",
       "        text-align: right;\n",
       "    }\n",
       "</style>\n",
       "<table border=\"1\" class=\"dataframe\">\n",
       "  <thead>\n",
       "    <tr style=\"text-align: right;\">\n",
       "      <th></th>\n",
       "      <th>Horsepower</th>\n",
       "      <th>EngineSize</th>\n",
       "      <th>MSRP</th>\n",
       "    </tr>\n",
       "  </thead>\n",
       "  <tbody>\n",
       "    <tr>\n",
       "      <th>0</th>\n",
       "      <td>265</td>\n",
       "      <td>3.5</td>\n",
       "      <td>36.945</td>\n",
       "    </tr>\n",
       "    <tr>\n",
       "      <th>1</th>\n",
       "      <td>200</td>\n",
       "      <td>2.0</td>\n",
       "      <td>23.820</td>\n",
       "    </tr>\n",
       "    <tr>\n",
       "      <th>2</th>\n",
       "      <td>200</td>\n",
       "      <td>2.4</td>\n",
       "      <td>26.990</td>\n",
       "    </tr>\n",
       "    <tr>\n",
       "      <th>3</th>\n",
       "      <td>270</td>\n",
       "      <td>3.2</td>\n",
       "      <td>33.195</td>\n",
       "    </tr>\n",
       "    <tr>\n",
       "      <th>4</th>\n",
       "      <td>225</td>\n",
       "      <td>3.5</td>\n",
       "      <td>43.755</td>\n",
       "    </tr>\n",
       "  </tbody>\n",
       "</table>\n",
       "</div>"
      ],
      "text/plain": [
       "   Horsepower  EngineSize    MSRP\n",
       "0         265         3.5  36.945\n",
       "1         200         2.0  23.820\n",
       "2         200         2.4  26.990\n",
       "3         270         3.2  33.195\n",
       "4         225         3.5  43.755"
      ]
     },
     "execution_count": 5,
     "metadata": {},
     "output_type": "execute_result"
    }
   ],
   "source": [
    "data = data[['Horsepower','EngineSize','MSRP']]\n",
    "data.head()"
   ]
  },
  {
   "cell_type": "code",
   "execution_count": 6,
   "metadata": {
    "colab": {
     "base_uri": "https://localhost:8080/",
     "height": 143
    },
    "id": "pu23gM6rOCqj",
    "outputId": "378e6c2f-fe42-4e4a-9a95-a701bab965f8"
   },
   "outputs": [
    {
     "data": {
      "text/html": [
       "<div>\n",
       "<style scoped>\n",
       "    .dataframe tbody tr th:only-of-type {\n",
       "        vertical-align: middle;\n",
       "    }\n",
       "\n",
       "    .dataframe tbody tr th {\n",
       "        vertical-align: top;\n",
       "    }\n",
       "\n",
       "    .dataframe thead th {\n",
       "        text-align: right;\n",
       "    }\n",
       "</style>\n",
       "<table border=\"1\" class=\"dataframe\">\n",
       "  <thead>\n",
       "    <tr style=\"text-align: right;\">\n",
       "      <th></th>\n",
       "      <th>Horsepower</th>\n",
       "      <th>EngineSize</th>\n",
       "      <th>MSRP</th>\n",
       "    </tr>\n",
       "  </thead>\n",
       "  <tbody>\n",
       "    <tr>\n",
       "      <th>Horsepower</th>\n",
       "      <td>1.000000</td>\n",
       "      <td>0.787435</td>\n",
       "      <td>0.826945</td>\n",
       "    </tr>\n",
       "    <tr>\n",
       "      <th>EngineSize</th>\n",
       "      <td>0.787435</td>\n",
       "      <td>1.000000</td>\n",
       "      <td>0.571753</td>\n",
       "    </tr>\n",
       "    <tr>\n",
       "      <th>MSRP</th>\n",
       "      <td>0.826945</td>\n",
       "      <td>0.571753</td>\n",
       "      <td>1.000000</td>\n",
       "    </tr>\n",
       "  </tbody>\n",
       "</table>\n",
       "</div>"
      ],
      "text/plain": [
       "            Horsepower  EngineSize      MSRP\n",
       "Horsepower    1.000000    0.787435  0.826945\n",
       "EngineSize    0.787435    1.000000  0.571753\n",
       "MSRP          0.826945    0.571753  1.000000"
      ]
     },
     "execution_count": 6,
     "metadata": {},
     "output_type": "execute_result"
    }
   ],
   "source": [
    "# Sprawdzam korelację pomiędzy danymi:\n",
    "data.corr()"
   ]
  },
  {
   "cell_type": "markdown",
   "metadata": {
    "id": "ZBQfK_rk73G8"
   },
   "source": [
    "***Interpetacja***: widzimy sliną korelację ceny i mocy silnika, oraz mniejszą ceny i wielkości silnika"
   ]
  },
  {
   "cell_type": "code",
   "execution_count": 7,
   "metadata": {
    "colab": {
     "base_uri": "https://localhost:8080/",
     "height": 353
    },
    "id": "Zp4nd41hP2el",
    "outputId": "8d48bb9b-92c8-45f4-d738-ad4b8f625063"
   },
   "outputs": [
    {
     "data": {
      "text/plain": [
       "Text(0.5, 1.0, 'Cena producenta (s tys.$) - MSRP')"
      ]
     },
     "execution_count": 7,
     "metadata": {},
     "output_type": "execute_result"
    },
    {
     "data": {
      "image/png": "[encoded data removed]",
      "text/plain": [
       "<Figure size 1440x360 with 3 Axes>"
      ]
     },
     "metadata": {
      "needs_background": "light"
     },
     "output_type": "display_data"
    }
   ],
   "source": [
    "# Sprawdzam rozkład danych:\n",
    "fig, (ax1, ax2, ax3) = plt.subplots(1, 3, figsize=(20, 5))\n",
    "ax1.plot(data['Horsepower'])\n",
    "ax1.set_title('Konie mechaniczne - Horsepower')\n",
    "ax2.plot(data['EngineSize'])\n",
    "ax2.set_title('Pojemność silnika - EngineSize')\n",
    "ax3.plot(data['MSRP'] )\n",
    "ax3.set_title('Cena producenta (s tys.$) - MSRP')"
   ]
  },
  {
   "cell_type": "markdown",
   "metadata": {
    "id": "Qqn9MtDLBEla"
   },
   "source": [
    "***Interpetacja***: widzimy, że pojawiają się wartości odstające, np. kilka silników o mocy 400-500km, czy cena ok. 190tys.  (podczas gdy większość cen oscyluje ok. 25 tys.$)"
   ]
  },
  {
   "cell_type": "code",
   "execution_count": 8,
   "metadata": {
    "id": "Q3A9V0NFPgvb"
   },
   "outputs": [],
   "source": [
    "#Zastąpmy wartości odstające średnią:\n",
    "upper_limit = data['MSRP'].mean() + 2*data['MSRP'].std()\n",
    "lower_limit = data['MSRP'].mean() - 2*data['MSRP'].std()\n",
    "mean = data['MSRP'].mean()\n",
    "upper_limit_h = data['Horsepower'].mean() + 2*data['Horsepower'].std()\n",
    "lower_limit_h = data['Horsepower'].mean() - 2*data['Horsepower'].std()\n",
    "mean_h = data['Horsepower'].mean()"
   ]
  },
  {
   "cell_type": "code",
   "execution_count": 9,
   "metadata": {
    "id": "Mgk-uNNfMDS6"
   },
   "outputs": [],
   "source": [
    "data['MSRP'] = np.where(data['MSRP']>upper_limit, mean, np.where(data['MSRP'] < lower_limit, mean, data['MSRP']))\n",
    "data['Horsepower'] = np.where(data['Horsepower']>upper_limit_h, mean_h, np.where(data['Horsepower']<lower_limit_h, mean_h, data['Horsepower']))"
   ]
  },
  {
   "cell_type": "code",
   "execution_count": 10,
   "metadata": {
    "colab": {
     "base_uri": "https://localhost:8080/"
    },
    "id": "4Xd6eEuNYYyC",
    "outputId": "c0e46ea6-78fd-41c8-ebf0-89d8907bbe19"
   },
   "outputs": [
    {
     "data": {
      "text/plain": [
       "count    428.000000\n",
       "mean      29.618586\n",
       "std       11.946188\n",
       "min       10.280000\n",
       "25%       20.334250\n",
       "50%       27.635000\n",
       "75%       35.773750\n",
       "max       69.995000\n",
       "Name: MSRP, dtype: float64"
      ]
     },
     "execution_count": 10,
     "metadata": {},
     "output_type": "execute_result"
    }
   ],
   "source": [
    "# Poniżej mamy rozkład danych dla ceny (MSRP): średnia, mediana, odchylenie, etc...\n",
    "data['MSRP'].describe()"
   ]
  },
  {
   "cell_type": "code",
   "execution_count": 11,
   "metadata": {
    "colab": {
     "base_uri": "https://localhost:8080/",
     "height": 282
    },
    "id": "TZz46Vu-YY1i",
    "outputId": "82c65d88-cc2c-455c-9777-d8b7bfc585a2"
   },
   "outputs": [
    {
     "data": {
      "text/plain": [
       "<AxesSubplot:>"
      ]
     },
     "execution_count": 11,
     "metadata": {},
     "output_type": "execute_result"
    },
    {
     "data": {
      "image/png": "[encoded data removed]",
      "text/plain": [
       "<Figure size 432x288 with 1 Axes>"
      ]
     },
     "metadata": {
      "needs_background": "light"
     },
     "output_type": "display_data"
    }
   ],
   "source": [
    "# Zobaczmy jak wygląda rozkład danych po uśrednieniu wartości odstających:\n",
    "data['MSRP'].plot.line()"
   ]
  },
  {
   "cell_type": "code",
   "execution_count": 12,
   "metadata": {
    "id": "-7QBnRLxgbtU"
   },
   "outputs": [],
   "source": [
    "# Ustalamy moc silnika (\"Horsepower\") jako  zmienną niezależną X\n",
    "X= data.iloc[:,0:1]\n",
    "# Ustalamy cenę (\"MSRP\") jako zmienną zależną y\n",
    "y= data['MSRP']"
   ]
  },
  {
   "cell_type": "code",
   "execution_count": 13,
   "metadata": {
    "colab": {
     "base_uri": "https://localhost:8080/",
     "height": 206
    },
    "id": "7CN_hzfTovyh",
    "outputId": "ca1f3332-85f8-4bb3-a1f5-e708ecd4d792"
   },
   "outputs": [
    {
     "data": {
      "text/html": [
       "<div>\n",
       "<style scoped>\n",
       "    .dataframe tbody tr th:only-of-type {\n",
       "        vertical-align: middle;\n",
       "    }\n",
       "\n",
       "    .dataframe tbody tr th {\n",
       "        vertical-align: top;\n",
       "    }\n",
       "\n",
       "    .dataframe thead th {\n",
       "        text-align: right;\n",
       "    }\n",
       "</style>\n",
       "<table border=\"1\" class=\"dataframe\">\n",
       "  <thead>\n",
       "    <tr style=\"text-align: right;\">\n",
       "      <th></th>\n",
       "      <th>Horsepower</th>\n",
       "    </tr>\n",
       "  </thead>\n",
       "  <tbody>\n",
       "    <tr>\n",
       "      <th>0</th>\n",
       "      <td>265.0</td>\n",
       "    </tr>\n",
       "    <tr>\n",
       "      <th>1</th>\n",
       "      <td>200.0</td>\n",
       "    </tr>\n",
       "    <tr>\n",
       "      <th>2</th>\n",
       "      <td>200.0</td>\n",
       "    </tr>\n",
       "    <tr>\n",
       "      <th>3</th>\n",
       "      <td>270.0</td>\n",
       "    </tr>\n",
       "    <tr>\n",
       "      <th>4</th>\n",
       "      <td>225.0</td>\n",
       "    </tr>\n",
       "  </tbody>\n",
       "</table>\n",
       "</div>"
      ],
      "text/plain": [
       "   Horsepower\n",
       "0       265.0\n",
       "1       200.0\n",
       "2       200.0\n",
       "3       270.0\n",
       "4       225.0"
      ]
     },
     "execution_count": 13,
     "metadata": {},
     "output_type": "execute_result"
    }
   ],
   "source": [
    "X.head()"
   ]
  },
  {
   "cell_type": "code",
   "execution_count": 14,
   "metadata": {
    "colab": {
     "base_uri": "https://localhost:8080/"
    },
    "id": "SVoQWZUZgpye",
    "outputId": "2db42eac-fbe6-41cc-80be-ea869dde2670"
   },
   "outputs": [
    {
     "data": {
      "text/plain": [
       "0    36.945\n",
       "1    23.820\n",
       "2    26.990\n",
       "3    33.195\n",
       "4    43.755\n",
       "Name: MSRP, dtype: float64"
      ]
     },
     "execution_count": 14,
     "metadata": {},
     "output_type": "execute_result"
    }
   ],
   "source": [
    "y.head()"
   ]
  },
  {
   "cell_type": "code",
   "execution_count": 15,
   "metadata": {
    "colab": {
     "base_uri": "https://localhost:8080/"
    },
    "id": "sgHZHnSqhCFa",
    "outputId": "7c9b36e0-37e4-4daa-b0b8-0841e1c02a54"
   },
   "outputs": [
    {
     "data": {
      "text/plain": [
       "LinearRegression(fit_intercept=False)"
      ]
     },
     "execution_count": 15,
     "metadata": {},
     "output_type": "execute_result"
    }
   ],
   "source": [
    "# Tworzymy model o nazwie \"model\" oraz uczymy go:\n",
    "model = LinearRegression(fit_intercept = False)\n",
    "model.fit(X,y)"
   ]
  },
  {
   "cell_type": "code",
   "execution_count": 16,
   "metadata": {
    "colab": {
     "base_uri": "https://localhost:8080/"
    },
    "id": "k_Pq8tqbAawG",
    "outputId": "543a56cb-b782-4153-ed40-ef6802ce2c3e"
   },
   "outputs": [
    {
     "data": {
      "text/plain": [
       "0.6234788953536882"
      ]
     },
     "execution_count": 16,
     "metadata": {},
     "output_type": "execute_result"
    }
   ],
   "source": [
    "# Sprawdzamy score:\n",
    "model.score(X,y)"
   ]
  },
  {
   "cell_type": "markdown",
   "metadata": {
    "id": "5xxsbTvY5gK6"
   },
   "source": [
    "***Interpertacja***: Wynik jest dość słaby - później sprawdzimy czy inną metodą uzyskamy lepszy wynik..."
   ]
  },
  {
   "cell_type": "code",
   "execution_count": 17,
   "metadata": {
    "colab": {
     "base_uri": "https://localhost:8080/"
    },
    "id": "lIJ_TTPXhqii",
    "outputId": "a357df81-1be4-41f5-cb20-ca322419608d"
   },
   "outputs": [
    {
     "data": {
      "text/plain": [
       "array([0.14212172])"
      ]
     },
     "execution_count": 17,
     "metadata": {},
     "output_type": "execute_result"
    }
   ],
   "source": [
    "# Liczymy model coef:\n",
    "model.coef_"
   ]
  },
  {
   "cell_type": "markdown",
   "metadata": {
    "id": "mFlp-kLr6Eac"
   },
   "source": [
    "***Interpertacja***: jeżeli moc wzroście o 1 to cena samochodu wzroście o 0.14 (w tys. $)"
   ]
  },
  {
   "cell_type": "code",
   "execution_count": 18,
   "metadata": {
    "colab": {
     "base_uri": "https://localhost:8080/"
    },
    "id": "_8fY-3-fRTLe",
    "outputId": "0bf0e13d-edb8-4820-814d-3d340d431f83"
   },
   "outputs": [
    {
     "data": {
      "text/plain": [
       "array([106.5912919])"
      ]
     },
     "execution_count": 18,
     "metadata": {},
     "output_type": "execute_result"
    }
   ],
   "source": [
    "# Sprawdźmy jaką cenę nasz model przewidzi dla samochodu z silnikiem o mocy 750km\n",
    "predict_data = np.array([[750]])\n",
    "model.predict(predict_data)"
   ]
  },
  {
   "cell_type": "markdown",
   "metadata": {
    "id": "_qtEpnVjOJES"
   },
   "source": [
    "***Interpertacja***: Algorytm przewiduje cenę 106 tys. dolarów "
   ]
  },
  {
   "cell_type": "markdown",
   "metadata": {
    "id": "SHEnjHHisUcl",
    "tags": []
   },
   "source": [
    "#### Sprawdźmy jaki wynik uzyskamy przy zastosowaniu funkcji logarytmicznej lub pierwiastka:"
   ]
  },
  {
   "cell_type": "code",
   "execution_count": 19,
   "metadata": {
    "id": "ibVWCF3ZRqTi"
   },
   "outputs": [],
   "source": [
    "# Wczytuję i poprawiam ponownie dane:\n",
    "data=pd.read_csv('cars.csv')\n",
    "data['MSRP'] = data['MSRP'].str[1:].str.replace(',','.')\n",
    "data['MSRP'] = data['MSRP'].astype(float)\n",
    "data = data[['Horsepower','MSRP']]"
   ]
  },
  {
   "cell_type": "code",
   "execution_count": 20,
   "metadata": {
    "colab": {
     "base_uri": "https://localhost:8080/"
    },
    "id": "PM5MdDEkOM9K",
    "outputId": "9644342b-a00b-44be-8280-fa5f04f22186"
   },
   "outputs": [
    {
     "data": {
      "text/plain": [
       "0.7522827583600046"
      ]
     },
     "execution_count": 20,
     "metadata": {},
     "output_type": "execute_result"
    }
   ],
   "source": [
    "# Sprawdzam jaki będzie score przy użyciu logarytmu:\n",
    "data_l = np.log(data)\n",
    "X= data_l.iloc[:,0:1]\n",
    "y= data_l['MSRP']\n",
    "model = LinearRegression()\n",
    "model.fit(X,y)\n",
    "model.score(X,y)"
   ]
  },
  {
   "cell_type": "code",
   "execution_count": 21,
   "metadata": {
    "colab": {
     "base_uri": "https://localhost:8080/"
    },
    "id": "mubAXvwmRTEp",
    "outputId": "33868c04-40fc-4325-845d-c27a10d4bb2d"
   },
   "outputs": [
    {
     "data": {
      "text/plain": [
       "0.7287824084175121"
      ]
     },
     "execution_count": 21,
     "metadata": {},
     "output_type": "execute_result"
    }
   ],
   "source": [
    "# Sprawdzam jaki będzie score przy użyciu pierwiastka:\n",
    "data_s = np.sqrt(data)\n",
    "X= data_s.iloc[:,0:1]\n",
    "y= data_s['MSRP']\n",
    "model = LinearRegression()\n",
    "model.fit(X,y)\n",
    "model.score(X,y)"
   ]
  },
  {
   "cell_type": "markdown",
   "metadata": {
    "id": "XTuJPJktVB62"
   },
   "source": [
    "***Interpertacja***: Algorytm jest skuteczniejszy przy użyciu funkcji logarytmicznej (score = 0.75)"
   ]
  },
  {
   "cell_type": "markdown",
   "metadata": {
    "id": "Xa5vPYQBsyGo"
   },
   "source": [
    "## Wielomianowa Regresja:"
   ]
  },
  {
   "cell_type": "code",
   "execution_count": 22,
   "metadata": {},
   "outputs": [],
   "source": [
    "from sklearn.model_selection import train_test_split"
   ]
  },
  {
   "cell_type": "code",
   "execution_count": 23,
   "metadata": {},
   "outputs": [],
   "source": [
    "data=pd.read_csv('cars.csv')\n",
    "data['MSRP'] = data['MSRP'].str[1:].str.replace(',','.')\n",
    "data['MSRP'] = data['MSRP'].astype(float)\n",
    "data = data[['Horsepower','EngineSize','MSRP']]"
   ]
  },
  {
   "cell_type": "code",
   "execution_count": 24,
   "metadata": {},
   "outputs": [],
   "source": [
    "# Tym razem weźmiemy pod uwagę również pojemność silnika (Engine Size)\n",
    "X= data.iloc[:,0:2]\n",
    "y= data['MSRP']"
   ]
  },
  {
   "cell_type": "code",
   "execution_count": 25,
   "metadata": {},
   "outputs": [],
   "source": [
    "poly = PolynomialFeatures(degree=10)\n",
    "X_poly = poly.fit_transform(X)"
   ]
  },
  {
   "cell_type": "code",
   "execution_count": 26,
   "metadata": {
    "tags": []
   },
   "outputs": [],
   "source": [
    "# Dzielimy dane na próbki: treningową i testową:\n",
    "X_poly_train, X_poly_test, y_train, y_test = train_test_split(X_poly,y, test_size=0.2, random_state=42)"
   ]
  },
  {
   "cell_type": "code",
   "execution_count": 27,
   "metadata": {
    "colab": {
     "base_uri": "https://localhost:8080/"
    },
    "id": "t6jDip09Vu-5",
    "outputId": "309600b0-50a9-443b-8dea-8cdc17308f4f"
   },
   "outputs": [
    {
     "data": {
      "text/plain": [
       "LinearRegression()"
      ]
     },
     "execution_count": 27,
     "metadata": {},
     "output_type": "execute_result"
    }
   ],
   "source": [
    "model_p = LinearRegression()\n",
    "model_p.fit(X_poly_train, y_train)"
   ]
  },
  {
   "cell_type": "code",
   "execution_count": 28,
   "metadata": {},
   "outputs": [
    {
     "data": {
      "text/plain": [
       "0.7980665888991788"
      ]
     },
     "execution_count": 28,
     "metadata": {},
     "output_type": "execute_result"
    }
   ],
   "source": [
    "# Sprawdźmy score dla próbki treningowej:\n",
    "model_p.score(X_poly_train, y_train)"
   ]
  },
  {
   "cell_type": "code",
   "execution_count": 29,
   "metadata": {},
   "outputs": [
    {
     "data": {
      "text/plain": [
       "0.8017735956968793"
      ]
     },
     "execution_count": 29,
     "metadata": {},
     "output_type": "execute_result"
    }
   ],
   "source": [
    "# Sprawdźmy score dla próbki testowej:\n",
    "model_p.score(X_poly_test, y_test)"
   ]
  },
  {
   "cell_type": "markdown",
   "metadata": {
    "id": "0U6gy_BnurX3"
   },
   "source": [
    "***Interpertacja***: Wyniki na próbkach: treningowej i testowej są zbliżone - model nie przeucza się."
   ]
  },
  {
   "cell_type": "markdown",
   "metadata": {
    "id": "I04GEkmUur8y"
   },
   "source": [
    "#### Sprawdźmy dokładność metody:"
   ]
  },
  {
   "cell_type": "code",
   "execution_count": 30,
   "metadata": {},
   "outputs": [],
   "source": [
    "from sklearn.metrics import mean_absolute_error, mean_absolute_percentage_error, mean_squared_error"
   ]
  },
  {
   "cell_type": "code",
   "execution_count": 31,
   "metadata": {
    "tags": []
   },
   "outputs": [],
   "source": [
    "y_pred = model_p.predict(X_poly_test)"
   ]
  },
  {
   "cell_type": "code",
   "execution_count": 32,
   "metadata": {},
   "outputs": [
    {
     "data": {
      "text/plain": [
       "5.942426224702337"
      ]
     },
     "execution_count": 32,
     "metadata": {},
     "output_type": "execute_result"
    }
   ],
   "source": [
    "#Liczymy Średni błąd:\n",
    "mean_absolute_error(y_test, y_pred)"
   ]
  },
  {
   "cell_type": "code",
   "execution_count": 33,
   "metadata": {},
   "outputs": [
    {
     "data": {
      "text/plain": [
       "0.18140040813059322"
      ]
     },
     "execution_count": 33,
     "metadata": {},
     "output_type": "execute_result"
    }
   ],
   "source": [
    "#Liczymy Średni błąd w procentach:\n",
    "mean_absolute_percentage_error(y_test, y_pred)"
   ]
  },
  {
   "cell_type": "markdown",
   "metadata": {},
   "source": [
    "***Interpertacja***: Średni błąd wynosi: 18.14%"
   ]
  },
  {
   "cell_type": "code",
   "execution_count": 34,
   "metadata": {},
   "outputs": [
    {
     "data": {
      "text/plain": [
       "66.65388553724365"
      ]
     },
     "execution_count": 34,
     "metadata": {},
     "output_type": "execute_result"
    }
   ],
   "source": [
    "#Liczymy błąd średniokwardatowy (im mniejszy typ lepiej):\n",
    "mean_squared_error(y_test, y_pred)"
   ]
  },
  {
   "cell_type": "code",
   "execution_count": 35,
   "metadata": {},
   "outputs": [
    {
     "name": "stdout",
     "output_type": "stream",
     "text": [
      "Mean Absolute Error : 5.942426224702337\n",
      "Mean Absolute percentage Error: 0.18140040813059322\n",
      "Mean Squared Error: 66.65388553724365\n"
     ]
    }
   ],
   "source": [
    "print(f'Mean Absolute Error : {mean_absolute_error(y_test, y_pred)}')\n",
    "print(f'Mean Absolute percentage Error: {mean_absolute_percentage_error(y_test, y_pred)}')\n",
    "print(f'Mean Squared Error: {mean_squared_error(y_test, y_pred)}')"
   ]
  },
  {
   "cell_type": "markdown",
   "metadata": {},
   "source": [
    "#### Z powyższego wynika, iż, wyższy score uzyskaliśmy w przypadku \n",
    "#### regresji wielomianowej (0.80) niż w przypadku regresji liniowej (0.62)\n",
    "#### Aby jeszcze poprawić wyniki, możemy np. manipulować parametrami: degree, test_size, \n",
    "#### Możemy również lepiej przygotować dane (ustandaryzować)"
   ]
  }
 ],
 "metadata": {
  "colab": {
   "collapsed_sections": [],
   "name": "Praca_zal_Regresja_liniowa.ipynb",
   "provenance": []
  },
  "kernelspec": {
   "display_name": "Python 3 (ipykernel)",
   "language": "python",
   "name": "python3"
  },
  "language_info": {
   "codemirror_mode": {
    "name": "ipython",
    "version": 3
   },
   "file_extension": ".py",
   "mimetype": "text/x-python",
   "name": "python",
   "nbconvert_exporter": "python",
   "pygments_lexer": "ipython3",
   "version": "3.9.7"
  }
 },
 "nbformat": 4,
 "nbformat_minor": 4
}
