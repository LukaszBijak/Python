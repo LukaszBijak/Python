{
 "cells": [
  {
   "cell_type": "markdown",
   "id": "356ef30c-5a77-4009-a9dc-bd4825e34f83",
   "metadata": {},
   "source": [
    "# Analiza zbioru mtcars.csv z danymi samochodów pod kątem wpływu rożnych parametrów na wielkość spalania."
   ]
  },
  {
   "cell_type": "code",
   "execution_count": 1,
   "id": "11c01c1c-50de-4745-bebe-8203ad97e56d",
   "metadata": {},
   "outputs": [],
   "source": [
    "import pandas as pd\n",
    "import numpy as np\n",
    "import matplotlib.pyplot as plt\n",
    "import seaborn as sns"
   ]
  },
  {
   "cell_type": "code",
   "execution_count": 2,
   "id": "64b1257f-191f-4180-b558-226d38954182",
   "metadata": {},
   "outputs": [],
   "source": [
    "cars = pd.read_csv('mtcars.csv')"
   ]
  },
  {
   "cell_type": "code",
   "execution_count": 3,
   "id": "77b54b1a-55ea-4bcc-a1cd-9f083e639602",
   "metadata": {},
   "outputs": [
    {
     "data": {
      "text/html": [
       "<div>\n",
       "<style scoped>\n",
       "    .dataframe tbody tr th:only-of-type {\n",
       "        vertical-align: middle;\n",
       "    }\n",
       "\n",
       "    .dataframe tbody tr th {\n",
       "        vertical-align: top;\n",
       "    }\n",
       "\n",
       "    .dataframe thead th {\n",
       "        text-align: right;\n",
       "    }\n",
       "</style>\n",
       "<table border=\"1\" class=\"dataframe\">\n",
       "  <thead>\n",
       "    <tr style=\"text-align: right;\">\n",
       "      <th></th>\n",
       "      <th>model</th>\n",
       "      <th>mpg</th>\n",
       "      <th>cyl</th>\n",
       "      <th>disp</th>\n",
       "      <th>hp</th>\n",
       "      <th>drat</th>\n",
       "      <th>wt</th>\n",
       "      <th>qsec</th>\n",
       "      <th>vs</th>\n",
       "      <th>am</th>\n",
       "      <th>gear</th>\n",
       "      <th>carb</th>\n",
       "    </tr>\n",
       "  </thead>\n",
       "  <tbody>\n",
       "    <tr>\n",
       "      <th>0</th>\n",
       "      <td>Mazda RX4</td>\n",
       "      <td>21.0</td>\n",
       "      <td>6</td>\n",
       "      <td>160.0</td>\n",
       "      <td>110</td>\n",
       "      <td>3.90</td>\n",
       "      <td>2.620</td>\n",
       "      <td>16.46</td>\n",
       "      <td>0</td>\n",
       "      <td>1</td>\n",
       "      <td>4</td>\n",
       "      <td>4</td>\n",
       "    </tr>\n",
       "    <tr>\n",
       "      <th>1</th>\n",
       "      <td>Mazda RX4 Wag</td>\n",
       "      <td>21.0</td>\n",
       "      <td>6</td>\n",
       "      <td>160.0</td>\n",
       "      <td>110</td>\n",
       "      <td>3.90</td>\n",
       "      <td>2.875</td>\n",
       "      <td>17.02</td>\n",
       "      <td>0</td>\n",
       "      <td>1</td>\n",
       "      <td>4</td>\n",
       "      <td>4</td>\n",
       "    </tr>\n",
       "    <tr>\n",
       "      <th>2</th>\n",
       "      <td>Datsun 710</td>\n",
       "      <td>22.8</td>\n",
       "      <td>4</td>\n",
       "      <td>108.0</td>\n",
       "      <td>93</td>\n",
       "      <td>3.85</td>\n",
       "      <td>2.320</td>\n",
       "      <td>18.61</td>\n",
       "      <td>1</td>\n",
       "      <td>1</td>\n",
       "      <td>4</td>\n",
       "      <td>1</td>\n",
       "    </tr>\n",
       "    <tr>\n",
       "      <th>3</th>\n",
       "      <td>Hornet 4 Drive</td>\n",
       "      <td>21.4</td>\n",
       "      <td>6</td>\n",
       "      <td>258.0</td>\n",
       "      <td>110</td>\n",
       "      <td>3.08</td>\n",
       "      <td>3.215</td>\n",
       "      <td>19.44</td>\n",
       "      <td>1</td>\n",
       "      <td>0</td>\n",
       "      <td>3</td>\n",
       "      <td>1</td>\n",
       "    </tr>\n",
       "    <tr>\n",
       "      <th>4</th>\n",
       "      <td>Hornet Sportabout</td>\n",
       "      <td>18.7</td>\n",
       "      <td>8</td>\n",
       "      <td>360.0</td>\n",
       "      <td>175</td>\n",
       "      <td>3.15</td>\n",
       "      <td>3.440</td>\n",
       "      <td>17.02</td>\n",
       "      <td>0</td>\n",
       "      <td>0</td>\n",
       "      <td>3</td>\n",
       "      <td>2</td>\n",
       "    </tr>\n",
       "  </tbody>\n",
       "</table>\n",
       "</div>"
      ],
      "text/plain": [
       "               model   mpg  cyl   disp   hp  drat     wt   qsec  vs  am  gear  \\\n",
       "0          Mazda RX4  21.0    6  160.0  110  3.90  2.620  16.46   0   1     4   \n",
       "1      Mazda RX4 Wag  21.0    6  160.0  110  3.90  2.875  17.02   0   1     4   \n",
       "2         Datsun 710  22.8    4  108.0   93  3.85  2.320  18.61   1   1     4   \n",
       "3     Hornet 4 Drive  21.4    6  258.0  110  3.08  3.215  19.44   1   0     3   \n",
       "4  Hornet Sportabout  18.7    8  360.0  175  3.15  3.440  17.02   0   0     3   \n",
       "\n",
       "   carb  \n",
       "0     4  \n",
       "1     4  \n",
       "2     1  \n",
       "3     1  \n",
       "4     2  "
      ]
     },
     "execution_count": 3,
     "metadata": {},
     "output_type": "execute_result"
    }
   ],
   "source": [
    "cars.head()"
   ]
  },
  {
   "cell_type": "markdown",
   "id": "46ddc933-0c00-4398-bb77-d23c67d5d34c",
   "metadata": {},
   "source": [
    "### Zamieniam jednostki na europejskie:\n",
    "\n",
    "1 mpg (mila na galon) = 235.21 litrów na 100 km,\n",
    "\n",
    "1 cal3 = 16.39 cm3,\n",
    "\n",
    "1 lb = 0.4535 kg\n"
   ]
  },
  {
   "cell_type": "code",
   "execution_count": 4,
   "id": "01168660-971e-4292-96f0-3fed08094f76",
   "metadata": {},
   "outputs": [],
   "source": [
    "cars['mpg'] = round((235.21 / cars['mpg']), 1)\n",
    "cars['disp'] = round((cars['disp'] * 16.39), 0)\n",
    "cars['wt'] = round((cars['wt'] * 0.4535 *1000), 0)"
   ]
  },
  {
   "cell_type": "markdown",
   "id": "2b17ea49-1d77-4707-ae4a-90f751c89967",
   "metadata": {
    "tags": []
   },
   "source": [
    "### Zmieniam nazwy kolumn na właściwe, oraz zamieszczam opis:\n",
    "\n",
    "|KOLUMNA     | OPIS             |\n",
    "|------------|------------------|\n",
    "|spalanie    | litrów na 100 km |\n",
    "|cyl         | ilość cylindrów  |\n",
    "|km          | konie mechaniczne|\n",
    "|przelozenie | przełożenie wału napędowego|\n",
    "|waga| waga w kg|\n",
    "|qsec|czas przejechania 1/4 mili w sekundach|\n",
    "|vs| rodzaj silniaka:  0 - silnik \"V\",  1 - silnik rzędowy|\n",
    "|am| rodzaj skrzyni biegów:  0 - skrzynia automatyczna, 1 - manualna|\n",
    "|gear| ilość biegów|\n",
    "|carb| ilość gaźników|"
   ]
  },
  {
   "cell_type": "code",
   "execution_count": 5,
   "id": "94b29a38-5c62-4544-b12b-732414409936",
   "metadata": {},
   "outputs": [],
   "source": [
    "cars.rename(columns = {'mpg':'spalanie', 'disp':'pojemnosc', 'hp':'km', 'drat':'przelozenie', 'wt':'waga'}, inplace = True)"
   ]
  },
  {
   "cell_type": "code",
   "execution_count": 6,
   "id": "135fb856-19f6-4b30-ae0b-3688ab6ef366",
   "metadata": {},
   "outputs": [
    {
     "data": {
      "text/html": [
       "<div>\n",
       "<style scoped>\n",
       "    .dataframe tbody tr th:only-of-type {\n",
       "        vertical-align: middle;\n",
       "    }\n",
       "\n",
       "    .dataframe tbody tr th {\n",
       "        vertical-align: top;\n",
       "    }\n",
       "\n",
       "    .dataframe thead th {\n",
       "        text-align: right;\n",
       "    }\n",
       "</style>\n",
       "<table border=\"1\" class=\"dataframe\">\n",
       "  <thead>\n",
       "    <tr style=\"text-align: right;\">\n",
       "      <th></th>\n",
       "      <th>spalanie</th>\n",
       "      <th>cyl</th>\n",
       "      <th>pojemnosc</th>\n",
       "      <th>km</th>\n",
       "      <th>przelozenie</th>\n",
       "      <th>waga</th>\n",
       "      <th>qsec</th>\n",
       "      <th>vs</th>\n",
       "      <th>am</th>\n",
       "      <th>gear</th>\n",
       "      <th>carb</th>\n",
       "    </tr>\n",
       "  </thead>\n",
       "  <tbody>\n",
       "    <tr>\n",
       "      <th>count</th>\n",
       "      <td>32.000000</td>\n",
       "      <td>32.000000</td>\n",
       "      <td>32.000000</td>\n",
       "      <td>32.000000</td>\n",
       "      <td>32.000000</td>\n",
       "      <td>32.000000</td>\n",
       "      <td>32.000000</td>\n",
       "      <td>32.000000</td>\n",
       "      <td>32.000000</td>\n",
       "      <td>32.000000</td>\n",
       "      <td>32.0000</td>\n",
       "    </tr>\n",
       "    <tr>\n",
       "      <th>mean</th>\n",
       "      <td>12.750000</td>\n",
       "      <td>6.187500</td>\n",
       "      <td>3781.468750</td>\n",
       "      <td>146.687500</td>\n",
       "      <td>3.596563</td>\n",
       "      <td>1459.062500</td>\n",
       "      <td>17.848750</td>\n",
       "      <td>0.437500</td>\n",
       "      <td>0.406250</td>\n",
       "      <td>3.687500</td>\n",
       "      <td>2.8125</td>\n",
       "    </tr>\n",
       "    <tr>\n",
       "      <th>std</th>\n",
       "      <td>3.868483</td>\n",
       "      <td>1.785922</td>\n",
       "      <td>2031.298837</td>\n",
       "      <td>68.562868</td>\n",
       "      <td>0.534679</td>\n",
       "      <td>443.785035</td>\n",
       "      <td>1.786943</td>\n",
       "      <td>0.504016</td>\n",
       "      <td>0.498991</td>\n",
       "      <td>0.737804</td>\n",
       "      <td>1.6152</td>\n",
       "    </tr>\n",
       "    <tr>\n",
       "      <th>min</th>\n",
       "      <td>6.900000</td>\n",
       "      <td>4.000000</td>\n",
       "      <td>1165.000000</td>\n",
       "      <td>52.000000</td>\n",
       "      <td>2.760000</td>\n",
       "      <td>686.000000</td>\n",
       "      <td>14.500000</td>\n",
       "      <td>0.000000</td>\n",
       "      <td>0.000000</td>\n",
       "      <td>3.000000</td>\n",
       "      <td>1.0000</td>\n",
       "    </tr>\n",
       "    <tr>\n",
       "      <th>25%</th>\n",
       "      <td>10.300000</td>\n",
       "      <td>4.000000</td>\n",
       "      <td>1980.250000</td>\n",
       "      <td>96.500000</td>\n",
       "      <td>3.080000</td>\n",
       "      <td>1170.500000</td>\n",
       "      <td>16.892500</td>\n",
       "      <td>0.000000</td>\n",
       "      <td>0.000000</td>\n",
       "      <td>3.000000</td>\n",
       "      <td>2.0000</td>\n",
       "    </tr>\n",
       "    <tr>\n",
       "      <th>50%</th>\n",
       "      <td>12.300000</td>\n",
       "      <td>6.000000</td>\n",
       "      <td>3217.500000</td>\n",
       "      <td>123.000000</td>\n",
       "      <td>3.695000</td>\n",
       "      <td>1508.000000</td>\n",
       "      <td>17.710000</td>\n",
       "      <td>0.000000</td>\n",
       "      <td>0.000000</td>\n",
       "      <td>4.000000</td>\n",
       "      <td>2.0000</td>\n",
       "    </tr>\n",
       "    <tr>\n",
       "      <th>75%</th>\n",
       "      <td>15.275000</td>\n",
       "      <td>8.000000</td>\n",
       "      <td>5343.000000</td>\n",
       "      <td>180.000000</td>\n",
       "      <td>3.920000</td>\n",
       "      <td>1637.250000</td>\n",
       "      <td>18.900000</td>\n",
       "      <td>1.000000</td>\n",
       "      <td>1.000000</td>\n",
       "      <td>4.000000</td>\n",
       "      <td>4.0000</td>\n",
       "    </tr>\n",
       "    <tr>\n",
       "      <th>max</th>\n",
       "      <td>22.600000</td>\n",
       "      <td>8.000000</td>\n",
       "      <td>7736.000000</td>\n",
       "      <td>335.000000</td>\n",
       "      <td>4.930000</td>\n",
       "      <td>2460.000000</td>\n",
       "      <td>22.900000</td>\n",
       "      <td>1.000000</td>\n",
       "      <td>1.000000</td>\n",
       "      <td>5.000000</td>\n",
       "      <td>8.0000</td>\n",
       "    </tr>\n",
       "  </tbody>\n",
       "</table>\n",
       "</div>"
      ],
      "text/plain": [
       "        spalanie        cyl    pojemnosc          km  przelozenie  \\\n",
       "count  32.000000  32.000000    32.000000   32.000000    32.000000   \n",
       "mean   12.750000   6.187500  3781.468750  146.687500     3.596563   \n",
       "std     3.868483   1.785922  2031.298837   68.562868     0.534679   \n",
       "min     6.900000   4.000000  1165.000000   52.000000     2.760000   \n",
       "25%    10.300000   4.000000  1980.250000   96.500000     3.080000   \n",
       "50%    12.300000   6.000000  3217.500000  123.000000     3.695000   \n",
       "75%    15.275000   8.000000  5343.000000  180.000000     3.920000   \n",
       "max    22.600000   8.000000  7736.000000  335.000000     4.930000   \n",
       "\n",
       "              waga       qsec         vs         am       gear     carb  \n",
       "count    32.000000  32.000000  32.000000  32.000000  32.000000  32.0000  \n",
       "mean   1459.062500  17.848750   0.437500   0.406250   3.687500   2.8125  \n",
       "std     443.785035   1.786943   0.504016   0.498991   0.737804   1.6152  \n",
       "min     686.000000  14.500000   0.000000   0.000000   3.000000   1.0000  \n",
       "25%    1170.500000  16.892500   0.000000   0.000000   3.000000   2.0000  \n",
       "50%    1508.000000  17.710000   0.000000   0.000000   4.000000   2.0000  \n",
       "75%    1637.250000  18.900000   1.000000   1.000000   4.000000   4.0000  \n",
       "max    2460.000000  22.900000   1.000000   1.000000   5.000000   8.0000  "
      ]
     },
     "execution_count": 6,
     "metadata": {},
     "output_type": "execute_result"
    }
   ],
   "source": [
    "cars.describe()"
   ]
  },
  {
   "cell_type": "markdown",
   "id": "53f09144-53ea-46df-a270-ab0923651711",
   "metadata": {},
   "source": [
    "### Sprawdzam, czy są braki w danych?"
   ]
  },
  {
   "cell_type": "code",
   "execution_count": 7,
   "id": "98a431c5-f089-4b09-9b93-c70f72768866",
   "metadata": {},
   "outputs": [
    {
     "data": {
      "text/plain": [
       "model          0\n",
       "spalanie       0\n",
       "cyl            0\n",
       "pojemnosc      0\n",
       "km             0\n",
       "przelozenie    0\n",
       "waga           0\n",
       "qsec           0\n",
       "vs             0\n",
       "am             0\n",
       "gear           0\n",
       "carb           0\n",
       "dtype: int64"
      ]
     },
     "execution_count": 7,
     "metadata": {},
     "output_type": "execute_result"
    }
   ],
   "source": [
    "cars.isnull().sum()"
   ]
  },
  {
   "cell_type": "markdown",
   "id": "72c3e6da-1d95-47c4-9718-d2820c7a3850",
   "metadata": {},
   "source": [
    "#### Nie ma braków w danych.\n",
    "W przypadku braku w dancyh (NULL) można by było uzupełnić dane np. średnią .mean() , ale w tym zbiorze nie było takiej konieczności.\n",
    "Można za to usunąć kolumnę z nazwami samochodów oraz qsec, ponieważ nie będą nam potrzebne do analizy."
   ]
  },
  {
   "cell_type": "code",
   "execution_count": 8,
   "id": "d70b6ac2-95a3-4e06-932c-78ba740e113b",
   "metadata": {},
   "outputs": [],
   "source": [
    "cars = cars.drop(columns=['model','qsec'])"
   ]
  },
  {
   "cell_type": "markdown",
   "id": "44237df6-6e29-4a6d-b9f9-fd5120b4a999",
   "metadata": {
    "tags": []
   },
   "source": [
    "##### Poniżej rozkład zmiennej spalanie:"
   ]
  },
  {
   "cell_type": "code",
   "execution_count": 9,
   "id": "25e79178-b9e1-4e83-af40-4f310999ad7b",
   "metadata": {},
   "outputs": [
    {
     "data": {
      "text/plain": [
       "<seaborn.axisgrid.FacetGrid at 0x21ce0c7ad30>"
      ]
     },
     "execution_count": 9,
     "metadata": {},
     "output_type": "execute_result"
    },
    {
     "data": {
      "image/png": "[encoded data removed]",
      "text/plain": [
       "<Figure size 360x360 with 1 Axes>"
      ]
     },
     "metadata": {
      "needs_background": "light"
     },
     "output_type": "display_data"
    }
   ],
   "source": [
    "sns.displot(cars['spalanie'], kind='hist', bins=5, color='lightblue')\n"
   ]
  },
  {
   "cell_type": "markdown",
   "id": "216edbd5-fae4-4968-aec1-29dd778ac278",
   "metadata": {},
   "source": [
    "Z powyższego rozkładu wynika, że najwięcej samochodów ma średnie spalanie między 10 a 13 l/100km."
   ]
  },
  {
   "cell_type": "markdown",
   "id": "76336a3c-1b4f-4f83-845d-007dc8870453",
   "metadata": {
    "tags": []
   },
   "source": [
    "### Sprawdźmy jak ilośc cylindrów, typ silnika lub skrzyni biegów, ilość biegów lub gaźników wpływa na spalanie:"
   ]
  },
  {
   "cell_type": "code",
   "execution_count": 10,
   "id": "4a8f9582-9dd4-4cd7-9196-5954efc5516d",
   "metadata": {},
   "outputs": [
    {
     "name": "stdout",
     "output_type": "stream",
     "text": [
      "cyl\n",
      "4     9.027273\n",
      "6    11.971429\n",
      "8    16.064286\n",
      "Name: spalanie, dtype: float64\n",
      "vs\n",
      "0    14.900000\n",
      "1     9.985714\n",
      "Name: spalanie, dtype: float64\n",
      "am\n",
      "0    14.452632\n",
      "1    10.261538\n",
      "Name: spalanie, dtype: float64\n",
      "gear\n",
      "3    15.280000\n",
      "4     9.966667\n",
      "5    11.840000\n",
      "Name: spalanie, dtype: float64\n",
      "carb\n",
      "1     9.714286\n",
      "2    11.090000\n",
      "3    14.466667\n",
      "4    15.810000\n",
      "6    11.900000\n",
      "8    15.700000\n",
      "Name: spalanie, dtype: float64\n"
     ]
    }
   ],
   "source": [
    "for col in ['cyl', 'vs', 'am', 'gear', 'carb']:\n",
    "    print(cars['spalanie'].groupby(cars[col]).mean())"
   ]
  },
  {
   "cell_type": "code",
   "execution_count": 11,
   "id": "4630d99b-796a-46f6-99b6-c8bfc03d9949",
   "metadata": {},
   "outputs": [
    {
     "data": {
      "text/plain": [
       "[Text(0.5, 0, 'Rodzaj skrzyni biegów:  0 - automatyczna,  1 - manualna'),\n",
       " Text(0, 0.5, 'Spalanie (l/100km)'),\n",
       " Text(0.5, 1.0, 'Skrzynia biegów a spalanie')]"
      ]
     },
     "execution_count": 11,
     "metadata": {},
     "output_type": "execute_result"
    },
    {
     "data": {
      "image/png": "[encoded data removed]",
      "text/plain": [
       "<Figure size 1728x360 with 3 Axes>"
      ]
     },
     "metadata": {
      "needs_background": "light"
     },
     "output_type": "display_data"
    }
   ],
   "source": [
    "fig, axs = plt.subplots(ncols = 3, figsize=(24,5))\n",
    "axs[0] = sns.stripplot(x='cyl', y='spalanie', data=cars, palette='dark', jitter=True, ax=axs[0])\n",
    "axs[0].set(xlabel='Ilość cylindrów', ylabel='Spalanie (l/100km)', title='Ilość cylindrów a spalanie')\n",
    "axs[1] = sns.barplot(x='vs', y='spalanie', data=cars, palette='vlag', ax=axs[1])\n",
    "axs[1].set(xlabel='Typ silnika: 0- typ \"V\"   1-  typ rzędowy', ylabel='Spalanie (l/100km)', title='Typ silnika a spalanie')\n",
    "axs[2] = sns.violinplot(x='am', y='spalanie', data=cars, palette='dark')\n",
    "axs[2].set(xlabel='Rodzaj skrzyni biegów:  0 - automatyczna,  1 - manualna', ylabel='Spalanie (l/100km)', title='Skrzynia biegów a spalanie')"
   ]
  },
  {
   "cell_type": "code",
   "execution_count": null,
   "id": "022c1773-a501-4306-bed3-423ffce1111f",
   "metadata": {},
   "outputs": [],
   "source": []
  },
  {
   "cell_type": "markdown",
   "id": "ac744d36-6bc1-4eeb-8710-8330a8a74f20",
   "metadata": {},
   "source": [
    "#### Z powyższej analizy wynika, że:\n",
    "\n",
    "    1. spalanie rośnie wraz z ilością cylindrów w silniku,\n",
    "    2. silniki 'V' mają większe spalanie niż rzędowe,\n",
    "    3. samochody ze skrzyniami automatycznymi generują większe spalanie niż z manualnymi,\n",
    "    4. trudno jednoznacznie określić, czy ilość biegów wpływa na spalanie,\n",
    "    5. ilość gaźników również nie ma jednoznacznego wpływu na spalanie."
   ]
  },
  {
   "cell_type": "markdown",
   "id": "d65f8a94-fbe7-41f2-a73b-76cdfd08aed4",
   "metadata": {},
   "source": [
    "### Sprawdźmy jak pozostałe paramery wpływają na spalanie:"
   ]
  },
  {
   "cell_type": "code",
   "execution_count": 12,
   "id": "bc87cf24-58bd-4c3a-bbf9-36a6291abb0e",
   "metadata": {},
   "outputs": [],
   "source": [
    "y = cars['spalanie']\n",
    "x = cars['pojemnosc']\n",
    "a = cars['km']\n",
    "b = cars['przelozenie']\n",
    "c = cars['waga']"
   ]
  },
  {
   "cell_type": "code",
   "execution_count": 13,
   "id": "350c1a4a-d377-4e06-a517-287161d407bf",
   "metadata": {},
   "outputs": [
    {
     "data": {
      "text/plain": [
       "Text(0.5, 0, 'Waga w kg')"
      ]
     },
     "execution_count": 13,
     "metadata": {},
     "output_type": "execute_result"
    },
    {
     "data": {
      "image/png": "[encoded data removed]",
      "text/plain": [
       "<Figure size 1728x360 with 4 Axes>"
      ]
     },
     "metadata": {
      "needs_background": "light"
     },
     "output_type": "display_data"
    }
   ],
   "source": [
    "fig, axes = plt.subplots(nrows=1, ncols=4, figsize=(24,5))\n",
    "axes[0].scatter(x,y)\n",
    "axes[0].set_title('Wpływ pojemności silnika na spalanie')\n",
    "axes[0].set_xlabel('Pojemność silnika w cm3')\n",
    "axes[0].set_ylabel('Spalanie w l/100km')\n",
    "axes[1].scatter(a,y)\n",
    "axes[1].set_title('Wpływ ilości KM na spalanie')\n",
    "axes[1].set_xlabel('Konie mechaniczne')\n",
    "axes[2].scatter(b,y)\n",
    "axes[2].set_title('Wpływ przełożenia na spalanie')\n",
    "axes[2].set_xlabel('Przełożenie')\n",
    "axes[3].scatter(c,y)\n",
    "axes[3].set_title('Wpływ wagi samochodu na spalanie')\n",
    "axes[3].set_xlabel('Waga w kg')"
   ]
  },
  {
   "cell_type": "markdown",
   "id": "88c09231-e7be-47a1-9a63-9f64bd8a7a1d",
   "metadata": {},
   "source": [
    "#### Z powyższych wykresów wynika iż:\n",
    "    1. Im większa pojemność silnika tym większe spalanie.\n",
    "    2. Im więcej koni mechanicznych tym również większe spalanie.\n",
    "    3. Przełożenia nie mają większego wpływu na spalanie.\n",
    "    4. Waga - im większa tym wyższe spalanie."
   ]
  },
  {
   "cell_type": "markdown",
   "id": "82c769c4-04a3-418c-8a9b-8704e83d78c2",
   "metadata": {},
   "source": [
    "### Sprawdźmy jak wygląda tablica korelacji:"
   ]
  },
  {
   "cell_type": "code",
   "execution_count": 14,
   "id": "9ad7c270-02f4-4ff1-b577-c7aec6888424",
   "metadata": {},
   "outputs": [],
   "source": [
    "cars = pd.get_dummies(cars,columns=['vs','am'],drop_first=False)\n",
    "cars = cars.drop(columns=['km','przelozenie','gear','carb'])"
   ]
  },
  {
   "cell_type": "code",
   "execution_count": 15,
   "id": "2f25a8bb-21fc-4921-b216-01dbb031f924",
   "metadata": {},
   "outputs": [],
   "source": [
    "cars = cars.rename(columns={'vs_0':'typ V', 'vs_1':'typ rzd', 'am_0':'at', 'am_1':'mt'})"
   ]
  },
  {
   "cell_type": "code",
   "execution_count": 16,
   "id": "87685693-05f0-49f1-9240-1a2d16096bde",
   "metadata": {},
   "outputs": [
    {
     "data": {
      "text/plain": [
       "<AxesSubplot:>"
      ]
     },
     "execution_count": 16,
     "metadata": {},
     "output_type": "execute_result"
    },
    {
     "data": {
      "image/png": "[encoded data removed]",
      "text/plain": [
       "<Figure size 1080x720 with 2 Axes>"
      ]
     },
     "metadata": {
      "needs_background": "light"
     },
     "output_type": "display_data"
    }
   ],
   "source": [
    "plt.figure(figsize = (15,10))\n",
    "sns.heatmap(cars.corr(), cmap='coolwarm',linecolor='white', linewidths=1)"
   ]
  },
  {
   "cell_type": "markdown",
   "id": "a122e54a-54af-4f12-a061-b83cc0b69fcb",
   "metadata": {},
   "source": [
    "#### Na powyższej tablicy możemy potwierdzić wcześniejsze obserwacje:  silną korelację spalania z: ilością cylindrów, pojemnością, wagą, silnikami typu 'V', skrzyniami automatycznymi\n"
   ]
  },
  {
   "cell_type": "code",
   "execution_count": null,
   "id": "75a46dcb-4021-4f04-83f5-abe7977988df",
   "metadata": {},
   "outputs": [],
   "source": []
  },
  {
   "cell_type": "code",
   "execution_count": null,
   "id": "91859073-afa4-40da-99b1-6dd69342a55a",
   "metadata": {},
   "outputs": [],
   "source": []
  }
 ],
 "metadata": {
  "kernelspec": {
   "display_name": "Python 3 (ipykernel)",
   "language": "python",
   "name": "python3"
  },
  "language_info": {
   "codemirror_mode": {
    "name": "ipython",
    "version": 3
   },
   "file_extension": ".py",
   "mimetype": "text/x-python",
   "name": "python",
   "nbconvert_exporter": "python",
   "pygments_lexer": "ipython3",
   "version": "3.9.7"
  }
 },
 "nbformat": 4,
 "nbformat_minor": 5
}
