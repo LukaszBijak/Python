{
 "cells": [
  {
   "cell_type": "code",
   "execution_count": 45,
   "id": "b9570ac5-8e79-45e3-b570-bbad5c61b9b0",
   "metadata": {},
   "outputs": [],
   "source": [
    "import numpy as np\n",
    "import pandas as pd\n",
    "import seaborn as sns\n",
    "import matplotlib.pyplot as plt\n",
    "\n",
    "%matplotlib inline"
   ]
  },
  {
   "cell_type": "code",
   "execution_count": 4,
   "id": "9b3ca4eb-157e-4a30-86d7-b6169a450974",
   "metadata": {},
   "outputs": [],
   "source": [
    "df = pd.read_csv('olympic.csv')"
   ]
  },
  {
   "cell_type": "markdown",
   "id": "61d24b7d-d476-4311-a8fe-71e875cdd802",
   "metadata": {},
   "source": [
    "# Ile medali zdobyły poszczególne kraje"
   ]
  },
  {
   "cell_type": "code",
   "execution_count": 5,
   "id": "3c6e97be-a150-48f9-bd66-913d995b5e49",
   "metadata": {},
   "outputs": [],
   "source": [
    "df = df[['NOC','Medal']]"
   ]
  },
  {
   "cell_type": "code",
   "execution_count": 6,
   "id": "8f3610e5-0fa1-470b-8475-04ee779d454e",
   "metadata": {},
   "outputs": [],
   "source": [
    "# Metoda 1\n",
    "\n",
    "df['Gold'] = [1 if x =='Gold' else 0 for x in df['Medal']]\n",
    "df['Silver'] = [1 if x =='Silver' else 0 for x in df['Medal']]\n",
    "df['Bronze'] = [1 if x =='Bronze' else 0 for x in df['Medal']]"
   ]
  },
  {
   "cell_type": "code",
   "execution_count": 10,
   "id": "5c7d4725-4b9e-4cbd-bef2-6361b30ffcc1",
   "metadata": {},
   "outputs": [],
   "source": [
    "df = df.groupby('NOC').sum()\n",
    "\n",
    "#Liczymy tylko kraje, które zdobyły w sumie ponad 500 medali\n",
    "df = df[(df['Gold']+df['Silver']+df['Bronze'])>500]"
   ]
  },
  {
   "cell_type": "code",
   "execution_count": 12,
   "id": "8384223d-fa48-4f09-996f-62a94a44d19c",
   "metadata": {},
   "outputs": [
    {
     "data": {
      "text/html": [
       "<div>\n",
       "<style scoped>\n",
       "    .dataframe tbody tr th:only-of-type {\n",
       "        vertical-align: middle;\n",
       "    }\n",
       "\n",
       "    .dataframe tbody tr th {\n",
       "        vertical-align: top;\n",
       "    }\n",
       "\n",
       "    .dataframe thead th {\n",
       "        text-align: right;\n",
       "    }\n",
       "</style>\n",
       "<table border=\"1\" class=\"dataframe\">\n",
       "  <thead>\n",
       "    <tr style=\"text-align: right;\">\n",
       "      <th></th>\n",
       "      <th>Gold</th>\n",
       "      <th>Silver</th>\n",
       "      <th>Bronze</th>\n",
       "    </tr>\n",
       "    <tr>\n",
       "      <th>NOC</th>\n",
       "      <th></th>\n",
       "      <th></th>\n",
       "      <th></th>\n",
       "    </tr>\n",
       "  </thead>\n",
       "  <tbody>\n",
       "    <tr>\n",
       "      <th>AUS</th>\n",
       "      <td>348</td>\n",
       "      <td>455</td>\n",
       "      <td>517</td>\n",
       "    </tr>\n",
       "    <tr>\n",
       "      <th>CAN</th>\n",
       "      <td>463</td>\n",
       "      <td>438</td>\n",
       "      <td>451</td>\n",
       "    </tr>\n",
       "    <tr>\n",
       "      <th>CHN</th>\n",
       "      <td>350</td>\n",
       "      <td>347</td>\n",
       "      <td>292</td>\n",
       "    </tr>\n",
       "    <tr>\n",
       "      <th>DEN</th>\n",
       "      <td>179</td>\n",
       "      <td>241</td>\n",
       "      <td>177</td>\n",
       "    </tr>\n",
       "    <tr>\n",
       "      <th>FIN</th>\n",
       "      <td>198</td>\n",
       "      <td>270</td>\n",
       "      <td>432</td>\n",
       "    </tr>\n",
       "  </tbody>\n",
       "</table>\n",
       "</div>"
      ],
      "text/plain": [
       "     Gold  Silver  Bronze\n",
       "NOC                      \n",
       "AUS   348     455     517\n",
       "CAN   463     438     451\n",
       "CHN   350     347     292\n",
       "DEN   179     241     177\n",
       "FIN   198     270     432"
      ]
     },
     "execution_count": 12,
     "metadata": {},
     "output_type": "execute_result"
    }
   ],
   "source": [
    "df.head()"
   ]
  },
  {
   "cell_type": "code",
   "execution_count": 14,
   "id": "37873aed-7494-4b8d-b226-9ba0b7d1bd9b",
   "metadata": {},
   "outputs": [],
   "source": [
    "# Metoda za pomocą OneHotEncoder:\n",
    "from sklearn.preprocessing import OneHotEncoder\n",
    "\n",
    "ohe =  OneHotEncoder()\n",
    "df2 = pd.read_csv('olympic.csv')\n",
    "df2 = df2[['NOC','Medal']]"
   ]
  },
  {
   "cell_type": "code",
   "execution_count": 15,
   "id": "619017d6-9c73-4081-9aea-a160785ab385",
   "metadata": {},
   "outputs": [],
   "source": [
    "enc_df = pd.DataFrame(ohe.fit_transform(df2[['Medal']]).toarray())\n",
    "df_ohe = df2.join(enc_df)\n",
    "df_ohe = df_ohe[['NOC',0,1,2]]"
   ]
  },
  {
   "cell_type": "code",
   "execution_count": 16,
   "id": "d85f8be7-9bee-4f90-b86d-3423597549fa",
   "metadata": {},
   "outputs": [],
   "source": [
    "df_ohe.rename(columns={0:'Bronze', 1:'Gold', 2:'Silver'}, inplace=True)\n",
    "df_ohe = df_ohe.groupby('NOC').sum()\n",
    "df_ohe = df_ohe[(df_ohe['Gold']+df_ohe['Silver']+df_ohe['Bronze'])>500].astype(int)\n",
    "df_ohe = df_ohe[['Gold','Silver','Bronze']]\n",
    "df_ohe.head()"
   ]
  },
  {
   "cell_type": "code",
   "execution_count": 49,
   "id": "da465a45-b9fa-421e-bf19-e810c67c6a31",
   "metadata": {},
   "outputs": [
    {
     "data": {
      "image/png": "[encoded data removed]",
      "text/plain": [
       "<Figure size 1296x432 with 1 Axes>"
      ]
     },
     "metadata": {
      "needs_background": "light"
     },
     "output_type": "display_data"
    }
   ],
   "source": [
    "# Wizualizacja graficzna za pomocą Matplotlib:\n",
    "\n",
    "plt.rcParams['figure.figsize'] = [18, 6]\n",
    "fig, ax = plt.subplots()\n",
    "ax.bar(df_ohe.index, df_ohe['Gold'], label = 'Gold', color='gold')\n",
    "ax.bar(df_ohe.index, df_ohe['Silver'], bottom = df_ohe['Gold'],label = 'Silver', color='silver'  )\n",
    "ax.bar(df_ohe.index, df_ohe['Bronze'], bottom = df_ohe['Gold'] + df_ohe['Silver'],label = 'Bronze', color='darkgoldenrod')\n",
    "ax.xaxis.set_tick_params(rotation=90)\n",
    "ax.set_ylabel('Medals')\n",
    "ax.legend()\n",
    "plt.show()"
   ]
  },
  {
   "cell_type": "code",
   "execution_count": 43,
   "id": "f5a14a49-0468-4470-a4cd-99fde8e15a5e",
   "metadata": {},
   "outputs": [],
   "source": [
    "# Wizualizacja graficzna za pomocą Seaborn:\n",
    "\n"
   ]
  }
 ],
 "metadata": {
  "kernelspec": {
   "display_name": "Python 3 (ipykernel)",
   "language": "python",
   "name": "python3"
  },
  "language_info": {
   "codemirror_mode": {
    "name": "ipython",
    "version": 3
   },
   "file_extension": ".py",
   "mimetype": "text/x-python",
   "name": "python",
   "nbconvert_exporter": "python",
   "pygments_lexer": "ipython3",
   "version": "3.9.7"
  }
 },
 "nbformat": 4,
 "nbformat_minor": 5
}
